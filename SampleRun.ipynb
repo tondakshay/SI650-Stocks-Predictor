{
  "nbformat": 4,
  "nbformat_minor": 0,
  "metadata": {
    "colab": {
      "provenance": []
    },
    "kernelspec": {
      "name": "python3",
      "display_name": "Python 3"
    },
    "language_info": {
      "name": "python"
    },
    "gpuClass": "standard"
  },
  "cells": [
    {
      "cell_type": "code",
      "source": [
        "from google.colab import drive\n",
        "drive.mount('/content/drive')"
      ],
      "metadata": {
        "colab": {
          "base_uri": "https://localhost:8080/"
        },
        "id": "Q_zKWwMQ6F6I",
        "outputId": "44890186-bf93-4a58-f2e6-93245efaa313"
      },
      "execution_count": null,
      "outputs": [
        {
          "output_type": "stream",
          "name": "stdout",
          "text": [
            "Mounted at /content/drive\n"
          ]
        }
      ]
    },
    {
      "cell_type": "code",
      "execution_count": null,
      "metadata": {
        "id": "din3kWo61BwX",
        "colab": {
          "base_uri": "https://localhost:8080/"
        },
        "outputId": "d6079861-f561-49cb-a057-c59d556fd8e8"
      },
      "outputs": [
        {
          "output_type": "stream",
          "name": "stdout",
          "text": [
            "Looking in indexes: https://pypi.org/simple, https://us-python.pkg.dev/colab-wheels/public/simple/\n",
            "Collecting tweepy==4.10.1\n",
            "  Downloading tweepy-4.10.1-py3-none-any.whl (94 kB)\n",
            "\u001b[K     |████████████████████████████████| 94 kB 2.2 MB/s \n",
            "\u001b[?25hCollecting requests<3,>=2.27.0\n",
            "  Downloading requests-2.28.1-py3-none-any.whl (62 kB)\n",
            "\u001b[K     |████████████████████████████████| 62 kB 1.5 MB/s \n",
            "\u001b[?25hRequirement already satisfied: oauthlib<4,>=3.2.0 in /usr/local/lib/python3.8/dist-packages (from tweepy==4.10.1) (3.2.2)\n",
            "Requirement already satisfied: requests-oauthlib<2,>=1.2.0 in /usr/local/lib/python3.8/dist-packages (from tweepy==4.10.1) (1.3.1)\n",
            "Requirement already satisfied: charset-normalizer<3,>=2 in /usr/local/lib/python3.8/dist-packages (from requests<3,>=2.27.0->tweepy==4.10.1) (2.1.1)\n",
            "Requirement already satisfied: certifi>=2017.4.17 in /usr/local/lib/python3.8/dist-packages (from requests<3,>=2.27.0->tweepy==4.10.1) (2022.12.7)\n",
            "Requirement already satisfied: urllib3<1.27,>=1.21.1 in /usr/local/lib/python3.8/dist-packages (from requests<3,>=2.27.0->tweepy==4.10.1) (1.24.3)\n",
            "Requirement already satisfied: idna<4,>=2.5 in /usr/local/lib/python3.8/dist-packages (from requests<3,>=2.27.0->tweepy==4.10.1) (2.10)\n",
            "Installing collected packages: requests, tweepy\n",
            "  Attempting uninstall: requests\n",
            "    Found existing installation: requests 2.23.0\n",
            "    Uninstalling requests-2.23.0:\n",
            "      Successfully uninstalled requests-2.23.0\n",
            "  Attempting uninstall: tweepy\n",
            "    Found existing installation: tweepy 3.10.0\n",
            "    Uninstalling tweepy-3.10.0:\n",
            "      Successfully uninstalled tweepy-3.10.0\n",
            "Successfully installed requests-2.28.1 tweepy-4.10.1\n",
            "Looking in indexes: https://pypi.org/simple, https://us-python.pkg.dev/colab-wheels/public/simple/\n",
            "Collecting GoogleNews\n",
            "  Downloading GoogleNews-1.6.5-py3-none-any.whl (8.0 kB)\n",
            "Collecting dateparser\n",
            "  Downloading dateparser-1.1.4-py2.py3-none-any.whl (292 kB)\n",
            "\u001b[K     |████████████████████████████████| 292 kB 8.0 MB/s \n",
            "\u001b[?25hRequirement already satisfied: python-dateutil in /usr/local/lib/python3.8/dist-packages (from GoogleNews) (2.8.2)\n",
            "Requirement already satisfied: beautifulsoup4 in /usr/local/lib/python3.8/dist-packages (from GoogleNews) (4.6.3)\n",
            "Requirement already satisfied: regex!=2019.02.19,!=2021.8.27 in /usr/local/lib/python3.8/dist-packages (from dateparser->GoogleNews) (2022.6.2)\n",
            "Requirement already satisfied: tzlocal in /usr/local/lib/python3.8/dist-packages (from dateparser->GoogleNews) (1.5.1)\n",
            "Requirement already satisfied: pytz in /usr/local/lib/python3.8/dist-packages (from dateparser->GoogleNews) (2022.6)\n",
            "Requirement already satisfied: six>=1.5 in /usr/local/lib/python3.8/dist-packages (from python-dateutil->GoogleNews) (1.15.0)\n",
            "Installing collected packages: dateparser, GoogleNews\n",
            "Successfully installed GoogleNews-1.6.5 dateparser-1.1.4\n"
          ]
        }
      ],
      "source": [
        "!pip install tweepy==4.10.1\n",
        "import tweepy\n",
        "import datetime\n",
        "import time\n",
        "try:\n",
        "  from GoogleNews import GoogleNews\n",
        "except:\n",
        "  !pip install GoogleNews\n",
        "  from GoogleNews import GoogleNews"
      ]
    },
    {
      "cell_type": "code",
      "source": [
        "try:\n",
        "  from transformers import BertTokenizer, BertModel\n",
        "except:\n",
        "  !pip install transformers\n",
        "  from transformers import BertTokenizer, BertModel\n",
        "import torch\n",
        "import torch.nn as nn\n",
        "from torch.utils.data import Dataset, DataLoader, random_split\n",
        "import numpy as np\n",
        "import tqdm\n",
        "import json\n",
        "import os\n",
        "import pandas as pd"
      ],
      "metadata": {
        "id": "MNJUJiXc1j7U",
        "colab": {
          "base_uri": "https://localhost:8080/"
        },
        "outputId": "c6660f86-4b19-4b0c-a35f-e198963739ad"
      },
      "execution_count": null,
      "outputs": [
        {
          "output_type": "stream",
          "name": "stdout",
          "text": [
            "Looking in indexes: https://pypi.org/simple, https://us-python.pkg.dev/colab-wheels/public/simple/\n",
            "Collecting transformers\n",
            "  Downloading transformers-4.25.1-py3-none-any.whl (5.8 MB)\n",
            "\u001b[K     |████████████████████████████████| 5.8 MB 8.0 MB/s \n",
            "\u001b[?25hRequirement already satisfied: filelock in /usr/local/lib/python3.8/dist-packages (from transformers) (3.8.2)\n",
            "Requirement already satisfied: regex!=2019.12.17 in /usr/local/lib/python3.8/dist-packages (from transformers) (2022.6.2)\n",
            "Requirement already satisfied: packaging>=20.0 in /usr/local/lib/python3.8/dist-packages (from transformers) (21.3)\n",
            "Requirement already satisfied: pyyaml>=5.1 in /usr/local/lib/python3.8/dist-packages (from transformers) (6.0)\n",
            "Requirement already satisfied: requests in /usr/local/lib/python3.8/dist-packages (from transformers) (2.28.1)\n",
            "Collecting tokenizers!=0.11.3,<0.14,>=0.11.1\n",
            "  Downloading tokenizers-0.13.2-cp38-cp38-manylinux_2_17_x86_64.manylinux2014_x86_64.whl (7.6 MB)\n",
            "\u001b[K     |████████████████████████████████| 7.6 MB 32.2 MB/s \n",
            "\u001b[?25hRequirement already satisfied: tqdm>=4.27 in /usr/local/lib/python3.8/dist-packages (from transformers) (4.64.1)\n",
            "Collecting huggingface-hub<1.0,>=0.10.0\n",
            "  Downloading huggingface_hub-0.11.1-py3-none-any.whl (182 kB)\n",
            "\u001b[K     |████████████████████████████████| 182 kB 39.6 MB/s \n",
            "\u001b[?25hRequirement already satisfied: numpy>=1.17 in /usr/local/lib/python3.8/dist-packages (from transformers) (1.21.6)\n",
            "Requirement already satisfied: typing-extensions>=3.7.4.3 in /usr/local/lib/python3.8/dist-packages (from huggingface-hub<1.0,>=0.10.0->transformers) (4.4.0)\n",
            "Requirement already satisfied: pyparsing!=3.0.5,>=2.0.2 in /usr/local/lib/python3.8/dist-packages (from packaging>=20.0->transformers) (3.0.9)\n",
            "Requirement already satisfied: charset-normalizer<3,>=2 in /usr/local/lib/python3.8/dist-packages (from requests->transformers) (2.1.1)\n",
            "Requirement already satisfied: urllib3<1.27,>=1.21.1 in /usr/local/lib/python3.8/dist-packages (from requests->transformers) (1.24.3)\n",
            "Requirement already satisfied: certifi>=2017.4.17 in /usr/local/lib/python3.8/dist-packages (from requests->transformers) (2022.12.7)\n",
            "Requirement already satisfied: idna<4,>=2.5 in /usr/local/lib/python3.8/dist-packages (from requests->transformers) (2.10)\n",
            "Installing collected packages: tokenizers, huggingface-hub, transformers\n",
            "Successfully installed huggingface-hub-0.11.1 tokenizers-0.13.2 transformers-4.25.1\n"
          ]
        }
      ]
    },
    {
      "cell_type": "markdown",
      "source": [
        "#Getting Data from API"
      ],
      "metadata": {
        "id": "nvSoawXX14bY"
      }
    },
    {
      "cell_type": "code",
      "source": [
        "def clean_results(res, name, keys):\n",
        "    for d in res:\n",
        "        d['text'] = d['title']+'. '+d['desc']\n",
        "        d['date'] = [d['date'], d['datetime']]\n",
        "        for k in keys:\n",
        "            del d[k]\n",
        "    return res\n",
        "\n",
        "def getResponses(query):\n",
        "\n",
        "    consumer_key = \"imwrWfsSa6ClKDtco1m5aamlL\"\n",
        "    consumer_secret = \"Ee1l74nk8Sx9a3lgYRGRtIMsA9w9CJp6UWS5o5Hujaktb9FUgh\"\n",
        "    bearer_token = \"AAAAAAAAAAAAAAAAAAAAANxGjQEAAAAAJRz42cJaTM0Vjftlj5qBXZbFUoQ%3Ds6sj59WRac4zF8fAn973cVazbok2TMSfcsryTIfBXVF4NERfXg\"\n",
        "\n",
        "    access_token = \"1591903520805961728-idXQZQJ5ETnqmTxG1MrKepmW1pWT5Z\"\n",
        "    access_token_secret = \"oaa6utpuNwrTFfryWg2M5BQvrSN3FoKxa3XxfqIC7Z1nB\"\n",
        "\n",
        "    auth = tweepy.auth.OAuthHandler(\n",
        "        consumer_key, consumer_secret#, access_token, access_token_secret\n",
        "    )\n",
        "    auth.set_access_token(access_token, access_token_secret)\n",
        "\n",
        "    # api = tweepy.API(auth)\n",
        "    client = tweepy.Client(bearer_token=bearer_token)\n",
        "\n",
        "    googlenews = GoogleNews(period='1month', lang='en', region='US')\n",
        "\n",
        "    responses = []\n",
        "    googleData = []\n",
        "    del_keys = ['media', 'img', 'datetime', 'title', 'desc']\n",
        "    \n",
        "    \n",
        "\n",
        "    responses.append([client.search_all_tweets(query + \" lang:en -is:retweet -links -https\", max_results=20, tweet_fields = \n",
        "                            ['created_at', 'geo', 'public_metrics', 'text','entities',],)])\n",
        "    googlenews.search(query)\n",
        "    for i in range(2):\n",
        "        result = googlenews.page_at(i+1)\n",
        "        googleData.extend(clean_results(result, query, del_keys))\n",
        "    googlenews.clear()\n",
        "\n",
        "    return responses , googleData\n",
        "\n",
        "def getData(queries):\n",
        "    responses, googleData = getResponses(queries)\n",
        "    data_tweet = [[ \"Text\", \"URL\"]]\n",
        "    data_google = [[ \"Text\", \"URL\"]]\n",
        "    for response in responses:\n",
        "        tweets = response[0].data\n",
        "        for tweet in tweets:\n",
        "            data_tweet.append([tweet.text, \"twitter\"])\n",
        "\n",
        "    for gdata in googleData:\n",
        "        data_google.append([gdata['text'], gdata['link']])\n",
        "    return data_tweet, data_google"
      ],
      "metadata": {
        "id": "0iHSzGS21q5t"
      },
      "execution_count": null,
      "outputs": []
    },
    {
      "cell_type": "markdown",
      "source": [
        "#Getting Scores from Model"
      ],
      "metadata": {
        "id": "nmRoaiU02MEz"
      }
    },
    {
      "cell_type": "code",
      "source": [
        "if torch.cuda.is_available():\n",
        "    DEVICE = \"cuda\"\n",
        "else:\n",
        "    DEVICE = \"cpu\"\n",
        "\n",
        "CKPT_PATH = \"/content/drive/Shareddrives/SI650/model_3layer_ckpt.pt\"\n",
        "\n",
        "tokenizer = BertTokenizer.from_pretrained('bert-base-uncased', padding=True, truncation=True)\n",
        "bert_model = BertModel.from_pretrained('bert-base-uncased', output_hidden_states = True)\n",
        "\n",
        "\n",
        "def get_embeddings(tokenizer, bert_model, text_list):\n",
        "  # text = \"Here is the sentence I want embeddings for.\"\n",
        "  sentence_embeddings = torch.zeros(len(text_list),768)\n",
        "  for i in range(len(text_list)):\n",
        "    marked_text = \"[CLS] \" + text_list[i][:512] + \" [SEP]\"\n",
        "    tokenized_text = tokenizer.tokenize(marked_text)\n",
        "    indexed_tokens = tokenizer.convert_tokens_to_ids(tokenized_text)\n",
        "    segments_ids = [1] * len(tokenized_text)\n",
        "    tokens_tensor = torch.tensor([indexed_tokens]).to(DEVICE)\n",
        "    segments_tensors = torch.tensor([segments_ids]).to(DEVICE)\n",
        "    # print(tokens_tensor.shape, segments_tensors.shape)\n",
        "    with torch.no_grad():\n",
        "      outputs = bert_model(tokens_tensor, segments_tensors)\n",
        "      hidden_states = outputs[2]\n",
        "    # token_embeddings = torch.stack(hidden_states, dim=0)\n",
        "    # token_embeddings = torch.squeeze(token_embeddings, dim=1)\n",
        "    # token_embeddings = token_embeddings.permute(1,0,2)\n",
        "    token_vecs = hidden_states[-2][0]\n",
        "    sentence_embeddings[i,:] = torch.mean(token_vecs,dim=0)\n",
        "  return sentence_embeddings\n",
        "\n",
        "class StockRelevanceModel(nn.Module):\n",
        "  def __init__(self):\n",
        "    super().__init__()\n",
        "    self.classifier = nn.Sequential(\n",
        "        nn.Linear(768, 1024),\n",
        "        nn.BatchNorm1d(1024),\n",
        "        nn.Dropout(p=0.5),\n",
        "        nn.ReLU(),\n",
        "        nn.Linear(1024,256),\n",
        "        nn.BatchNorm1d(256),\n",
        "        nn.Dropout(p=0.5),\n",
        "        nn.ReLU(),\n",
        "        nn.Linear(256, 4)\n",
        "    )\n",
        "\n",
        "  def forward(self, x):\n",
        "    return self.classifier(x)\n",
        "\n",
        "def get_rel_scores(data, model=None):\n",
        "    if not model:\n",
        "      model = StockRelevanceModel()\n",
        "      model = torch.load(CKPT_PATH, map_location=torch.device(DEVICE))\n",
        "    model.eval()\n",
        "    bert_model.to(DEVICE)\n",
        "    labels = torch.tensor([[0,1,2,3]], dtype=torch.float32).to(DEVICE)\n",
        "    scores = []\n",
        "    # for text in data:\n",
        "    #     print(text)\n",
        "    sentence_embeddings = get_embeddings(tokenizer, bert_model, data).to(DEVICE)\n",
        "    logits = model(sentence_embeddings)\n",
        "    prob = nn.functional.softmax(logits, dim=1)\n",
        "    avg_label = (prob@labels.T).squeeze()\n",
        "    scores = avg_label.cpu().detach().tolist()\n",
        "    return scores"
      ],
      "metadata": {
        "colab": {
          "base_uri": "https://localhost:8080/"
        },
        "id": "r8zfynTL2PY3",
        "outputId": "384b1aca-72f1-4d2c-ba0b-81557e92d0dd"
      },
      "execution_count": null,
      "outputs": [
        {
          "output_type": "stream",
          "name": "stderr",
          "text": [
            "Some weights of the model checkpoint at bert-base-uncased were not used when initializing BertModel: ['cls.seq_relationship.bias', 'cls.predictions.transform.dense.bias', 'cls.predictions.transform.LayerNorm.weight', 'cls.predictions.transform.dense.weight', 'cls.seq_relationship.weight', 'cls.predictions.decoder.weight', 'cls.predictions.transform.LayerNorm.bias', 'cls.predictions.bias']\n",
            "- This IS expected if you are initializing BertModel from the checkpoint of a model trained on another task or with another architecture (e.g. initializing a BertForSequenceClassification model from a BertForPreTraining model).\n",
            "- This IS NOT expected if you are initializing BertModel from the checkpoint of a model that you expect to be exactly identical (initializing a BertForSequenceClassification model from a BertForSequenceClassification model).\n"
          ]
        }
      ]
    },
    {
      "cell_type": "code",
      "source": [
        "QE_PATH = \"/content/drive/Shareddrives/SI650/comp_qe.json\"\n",
        "with open(QE_PATH, 'r') as f:\n",
        "    qe_dict = json.load(f)\n",
        "\n",
        "query = 'Apple'\n",
        "\n",
        "if query.lower() in qe_dict.keys():\n",
        "    query_exp = qe_dict[query.lower()]\n",
        "else:\n",
        "    query_exp = qe_dict['other']\n",
        "print(\"Getting data from API...\")\n",
        "data_tweet, data_google = getData(' '.join(query_exp.split(' ')[:2]))\n",
        "\n",
        "print(\"Converting data to DataFrames\")\n",
        "tweet_df = pd.DataFrame(data_tweet[1:], columns=data_tweet[0])\n",
        "google_df = pd.DataFrame(data_google[1:], columns=data_google[0])\n",
        "# scores = get_rel_scores(tweet_df['Text'])\n",
        "# tweet_df['scores'] = scores\n",
        "tweet_df = tweet_df.drop_duplicates(subset=['Text'])\n",
        "google_df = google_df.drop_duplicates(subset=['Text'])\n",
        "tweet_scores = get_rel_scores(list(tweet_df['Text']))\n",
        "google_scores = get_rel_scores(list(google_df['Text']))"
      ],
      "metadata": {
        "colab": {
          "base_uri": "https://localhost:8080/"
        },
        "id": "WFIh89p92aAW",
        "outputId": "289a6cb2-58af-45dc-ecd1-da7edf2bb7cd"
      },
      "execution_count": null,
      "outputs": [
        {
          "output_type": "stream",
          "name": "stdout",
          "text": [
            "Getting data from API...\n",
            "Converting data to DataFrames\n"
          ]
        }
      ]
    },
    {
      "cell_type": "code",
      "source": [
        "# len(tweet_df.drop_duplicates(subset=['Text']))\n",
        "tweet_df.iloc[np.argsort(tweet_scores)[::-1]].head()"
      ],
      "metadata": {
        "colab": {
          "base_uri": "https://localhost:8080/",
          "height": 281
        },
        "id": "IixR65qz7aJw",
        "outputId": "433ce027-2a24-486a-ca1d-42c2a3f8b0db"
      },
      "execution_count": null,
      "outputs": [
        {
          "output_type": "execute_result",
          "data": {
            "text/plain": [
              "                                                 Text      URL\n",
              "6   SHARES OF SOME BIG TECH COS RISE PREMARKET AFT...  twitter\n",
              "9   SHARES OF SOME BIG TECH COS RISE PREMARKET AFT...  twitter\n",
              "8   Shares Of Some Big Tech Cos Rise Premarket Aft...  twitter\n",
              "12  Sold my Visa $V position at a ~30% return excl...  twitter\n",
              "7   *$AAPL $META $GOOGL $MSFT $TSLA** - SHARES OF ...  twitter"
            ],
            "text/html": [
              "\n",
              "  <div id=\"df-357d5720-a6e2-4192-a929-e68964b14ea4\">\n",
              "    <div class=\"colab-df-container\">\n",
              "      <div>\n",
              "<style scoped>\n",
              "    .dataframe tbody tr th:only-of-type {\n",
              "        vertical-align: middle;\n",
              "    }\n",
              "\n",
              "    .dataframe tbody tr th {\n",
              "        vertical-align: top;\n",
              "    }\n",
              "\n",
              "    .dataframe thead th {\n",
              "        text-align: right;\n",
              "    }\n",
              "</style>\n",
              "<table border=\"1\" class=\"dataframe\">\n",
              "  <thead>\n",
              "    <tr style=\"text-align: right;\">\n",
              "      <th></th>\n",
              "      <th>Text</th>\n",
              "      <th>URL</th>\n",
              "    </tr>\n",
              "  </thead>\n",
              "  <tbody>\n",
              "    <tr>\n",
              "      <th>6</th>\n",
              "      <td>SHARES OF SOME BIG TECH COS RISE PREMARKET AFT...</td>\n",
              "      <td>twitter</td>\n",
              "    </tr>\n",
              "    <tr>\n",
              "      <th>9</th>\n",
              "      <td>SHARES OF SOME BIG TECH COS RISE PREMARKET AFT...</td>\n",
              "      <td>twitter</td>\n",
              "    </tr>\n",
              "    <tr>\n",
              "      <th>8</th>\n",
              "      <td>Shares Of Some Big Tech Cos Rise Premarket Aft...</td>\n",
              "      <td>twitter</td>\n",
              "    </tr>\n",
              "    <tr>\n",
              "      <th>12</th>\n",
              "      <td>Sold my Visa $V position at a ~30% return excl...</td>\n",
              "      <td>twitter</td>\n",
              "    </tr>\n",
              "    <tr>\n",
              "      <th>7</th>\n",
              "      <td>*$AAPL $META $GOOGL $MSFT $TSLA** - SHARES OF ...</td>\n",
              "      <td>twitter</td>\n",
              "    </tr>\n",
              "  </tbody>\n",
              "</table>\n",
              "</div>\n",
              "      <button class=\"colab-df-convert\" onclick=\"convertToInteractive('df-357d5720-a6e2-4192-a929-e68964b14ea4')\"\n",
              "              title=\"Convert this dataframe to an interactive table.\"\n",
              "              style=\"display:none;\">\n",
              "        \n",
              "  <svg xmlns=\"http://www.w3.org/2000/svg\" height=\"24px\"viewBox=\"0 0 24 24\"\n",
              "       width=\"24px\">\n",
              "    <path d=\"M0 0h24v24H0V0z\" fill=\"none\"/>\n",
              "    <path d=\"M18.56 5.44l.94 2.06.94-2.06 2.06-.94-2.06-.94-.94-2.06-.94 2.06-2.06.94zm-11 1L8.5 8.5l.94-2.06 2.06-.94-2.06-.94L8.5 2.5l-.94 2.06-2.06.94zm10 10l.94 2.06.94-2.06 2.06-.94-2.06-.94-.94-2.06-.94 2.06-2.06.94z\"/><path d=\"M17.41 7.96l-1.37-1.37c-.4-.4-.92-.59-1.43-.59-.52 0-1.04.2-1.43.59L10.3 9.45l-7.72 7.72c-.78.78-.78 2.05 0 2.83L4 21.41c.39.39.9.59 1.41.59.51 0 1.02-.2 1.41-.59l7.78-7.78 2.81-2.81c.8-.78.8-2.07 0-2.86zM5.41 20L4 18.59l7.72-7.72 1.47 1.35L5.41 20z\"/>\n",
              "  </svg>\n",
              "      </button>\n",
              "      \n",
              "  <style>\n",
              "    .colab-df-container {\n",
              "      display:flex;\n",
              "      flex-wrap:wrap;\n",
              "      gap: 12px;\n",
              "    }\n",
              "\n",
              "    .colab-df-convert {\n",
              "      background-color: #E8F0FE;\n",
              "      border: none;\n",
              "      border-radius: 50%;\n",
              "      cursor: pointer;\n",
              "      display: none;\n",
              "      fill: #1967D2;\n",
              "      height: 32px;\n",
              "      padding: 0 0 0 0;\n",
              "      width: 32px;\n",
              "    }\n",
              "\n",
              "    .colab-df-convert:hover {\n",
              "      background-color: #E2EBFA;\n",
              "      box-shadow: 0px 1px 2px rgba(60, 64, 67, 0.3), 0px 1px 3px 1px rgba(60, 64, 67, 0.15);\n",
              "      fill: #174EA6;\n",
              "    }\n",
              "\n",
              "    [theme=dark] .colab-df-convert {\n",
              "      background-color: #3B4455;\n",
              "      fill: #D2E3FC;\n",
              "    }\n",
              "\n",
              "    [theme=dark] .colab-df-convert:hover {\n",
              "      background-color: #434B5C;\n",
              "      box-shadow: 0px 1px 3px 1px rgba(0, 0, 0, 0.15);\n",
              "      filter: drop-shadow(0px 1px 2px rgba(0, 0, 0, 0.3));\n",
              "      fill: #FFFFFF;\n",
              "    }\n",
              "  </style>\n",
              "\n",
              "      <script>\n",
              "        const buttonEl =\n",
              "          document.querySelector('#df-357d5720-a6e2-4192-a929-e68964b14ea4 button.colab-df-convert');\n",
              "        buttonEl.style.display =\n",
              "          google.colab.kernel.accessAllowed ? 'block' : 'none';\n",
              "\n",
              "        async function convertToInteractive(key) {\n",
              "          const element = document.querySelector('#df-357d5720-a6e2-4192-a929-e68964b14ea4');\n",
              "          const dataTable =\n",
              "            await google.colab.kernel.invokeFunction('convertToInteractive',\n",
              "                                                     [key], {});\n",
              "          if (!dataTable) return;\n",
              "\n",
              "          const docLinkHtml = 'Like what you see? Visit the ' +\n",
              "            '<a target=\"_blank\" href=https://colab.research.google.com/notebooks/data_table.ipynb>data table notebook</a>'\n",
              "            + ' to learn more about interactive tables.';\n",
              "          element.innerHTML = '';\n",
              "          dataTable['output_type'] = 'display_data';\n",
              "          await google.colab.output.renderOutput(dataTable, element);\n",
              "          const docLink = document.createElement('div');\n",
              "          docLink.innerHTML = docLinkHtml;\n",
              "          element.appendChild(docLink);\n",
              "        }\n",
              "      </script>\n",
              "    </div>\n",
              "  </div>\n",
              "  "
            ]
          },
          "metadata": {},
          "execution_count": 104
        }
      ]
    },
    {
      "cell_type": "code",
      "source": [
        "google_df.iloc[np.argsort(google_scores)[::-1]][['Text','URL']].head()"
      ],
      "metadata": {
        "colab": {
          "base_uri": "https://localhost:8080/",
          "height": 297
        },
        "id": "qcskbCjYAoUa",
        "outputId": "bf7c81cc-8676-49e6-8e69-7d0d361a6868"
      },
      "execution_count": null,
      "outputs": [
        {
          "output_type": "execute_result",
          "data": {
            "text/plain": [
              "                                                 Text  \\\n",
              "14  Berkshire Hathaway Inc. Cl B stock outperforms...   \n",
              "1   Berkshire Hathaway Inc. Cl B stock outperforms...   \n",
              "8   Is Warren Buffett's Berkshire Hathaway Stock a...   \n",
              "10  5 Phenomenal Stocks in Warren Buffett's Secret...   \n",
              "19  Berkshire Hathaway HomeServices Expands Presen...   \n",
              "\n",
              "                                                  URL  \n",
              "14  https://www.msn.com/en-us/money/topstocks/berk...  \n",
              "1   https://www.marketwatch.com/story/berkshire-ha...  \n",
              "8   https://www.fool.com/investing/2022/12/16/is-w...  \n",
              "10  https://www.fool.com/investing/2022/12/16/5-st...  \n",
              "19  https://www.businesswire.com/news/home/2022121...  "
            ],
            "text/html": [
              "\n",
              "  <div id=\"df-39a25c5e-72b4-4d09-b1f8-b83d9bff97b4\">\n",
              "    <div class=\"colab-df-container\">\n",
              "      <div>\n",
              "<style scoped>\n",
              "    .dataframe tbody tr th:only-of-type {\n",
              "        vertical-align: middle;\n",
              "    }\n",
              "\n",
              "    .dataframe tbody tr th {\n",
              "        vertical-align: top;\n",
              "    }\n",
              "\n",
              "    .dataframe thead th {\n",
              "        text-align: right;\n",
              "    }\n",
              "</style>\n",
              "<table border=\"1\" class=\"dataframe\">\n",
              "  <thead>\n",
              "    <tr style=\"text-align: right;\">\n",
              "      <th></th>\n",
              "      <th>Text</th>\n",
              "      <th>URL</th>\n",
              "    </tr>\n",
              "  </thead>\n",
              "  <tbody>\n",
              "    <tr>\n",
              "      <th>14</th>\n",
              "      <td>Berkshire Hathaway Inc. Cl B stock outperforms...</td>\n",
              "      <td>https://www.msn.com/en-us/money/topstocks/berk...</td>\n",
              "    </tr>\n",
              "    <tr>\n",
              "      <th>1</th>\n",
              "      <td>Berkshire Hathaway Inc. Cl B stock outperforms...</td>\n",
              "      <td>https://www.marketwatch.com/story/berkshire-ha...</td>\n",
              "    </tr>\n",
              "    <tr>\n",
              "      <th>8</th>\n",
              "      <td>Is Warren Buffett's Berkshire Hathaway Stock a...</td>\n",
              "      <td>https://www.fool.com/investing/2022/12/16/is-w...</td>\n",
              "    </tr>\n",
              "    <tr>\n",
              "      <th>10</th>\n",
              "      <td>5 Phenomenal Stocks in Warren Buffett's Secret...</td>\n",
              "      <td>https://www.fool.com/investing/2022/12/16/5-st...</td>\n",
              "    </tr>\n",
              "    <tr>\n",
              "      <th>19</th>\n",
              "      <td>Berkshire Hathaway HomeServices Expands Presen...</td>\n",
              "      <td>https://www.businesswire.com/news/home/2022121...</td>\n",
              "    </tr>\n",
              "  </tbody>\n",
              "</table>\n",
              "</div>\n",
              "      <button class=\"colab-df-convert\" onclick=\"convertToInteractive('df-39a25c5e-72b4-4d09-b1f8-b83d9bff97b4')\"\n",
              "              title=\"Convert this dataframe to an interactive table.\"\n",
              "              style=\"display:none;\">\n",
              "        \n",
              "  <svg xmlns=\"http://www.w3.org/2000/svg\" height=\"24px\"viewBox=\"0 0 24 24\"\n",
              "       width=\"24px\">\n",
              "    <path d=\"M0 0h24v24H0V0z\" fill=\"none\"/>\n",
              "    <path d=\"M18.56 5.44l.94 2.06.94-2.06 2.06-.94-2.06-.94-.94-2.06-.94 2.06-2.06.94zm-11 1L8.5 8.5l.94-2.06 2.06-.94-2.06-.94L8.5 2.5l-.94 2.06-2.06.94zm10 10l.94 2.06.94-2.06 2.06-.94-2.06-.94-.94-2.06-.94 2.06-2.06.94z\"/><path d=\"M17.41 7.96l-1.37-1.37c-.4-.4-.92-.59-1.43-.59-.52 0-1.04.2-1.43.59L10.3 9.45l-7.72 7.72c-.78.78-.78 2.05 0 2.83L4 21.41c.39.39.9.59 1.41.59.51 0 1.02-.2 1.41-.59l7.78-7.78 2.81-2.81c.8-.78.8-2.07 0-2.86zM5.41 20L4 18.59l7.72-7.72 1.47 1.35L5.41 20z\"/>\n",
              "  </svg>\n",
              "      </button>\n",
              "      \n",
              "  <style>\n",
              "    .colab-df-container {\n",
              "      display:flex;\n",
              "      flex-wrap:wrap;\n",
              "      gap: 12px;\n",
              "    }\n",
              "\n",
              "    .colab-df-convert {\n",
              "      background-color: #E8F0FE;\n",
              "      border: none;\n",
              "      border-radius: 50%;\n",
              "      cursor: pointer;\n",
              "      display: none;\n",
              "      fill: #1967D2;\n",
              "      height: 32px;\n",
              "      padding: 0 0 0 0;\n",
              "      width: 32px;\n",
              "    }\n",
              "\n",
              "    .colab-df-convert:hover {\n",
              "      background-color: #E2EBFA;\n",
              "      box-shadow: 0px 1px 2px rgba(60, 64, 67, 0.3), 0px 1px 3px 1px rgba(60, 64, 67, 0.15);\n",
              "      fill: #174EA6;\n",
              "    }\n",
              "\n",
              "    [theme=dark] .colab-df-convert {\n",
              "      background-color: #3B4455;\n",
              "      fill: #D2E3FC;\n",
              "    }\n",
              "\n",
              "    [theme=dark] .colab-df-convert:hover {\n",
              "      background-color: #434B5C;\n",
              "      box-shadow: 0px 1px 3px 1px rgba(0, 0, 0, 0.15);\n",
              "      filter: drop-shadow(0px 1px 2px rgba(0, 0, 0, 0.3));\n",
              "      fill: #FFFFFF;\n",
              "    }\n",
              "  </style>\n",
              "\n",
              "      <script>\n",
              "        const buttonEl =\n",
              "          document.querySelector('#df-39a25c5e-72b4-4d09-b1f8-b83d9bff97b4 button.colab-df-convert');\n",
              "        buttonEl.style.display =\n",
              "          google.colab.kernel.accessAllowed ? 'block' : 'none';\n",
              "\n",
              "        async function convertToInteractive(key) {\n",
              "          const element = document.querySelector('#df-39a25c5e-72b4-4d09-b1f8-b83d9bff97b4');\n",
              "          const dataTable =\n",
              "            await google.colab.kernel.invokeFunction('convertToInteractive',\n",
              "                                                     [key], {});\n",
              "          if (!dataTable) return;\n",
              "\n",
              "          const docLinkHtml = 'Like what you see? Visit the ' +\n",
              "            '<a target=\"_blank\" href=https://colab.research.google.com/notebooks/data_table.ipynb>data table notebook</a>'\n",
              "            + ' to learn more about interactive tables.';\n",
              "          element.innerHTML = '';\n",
              "          dataTable['output_type'] = 'display_data';\n",
              "          await google.colab.output.renderOutput(dataTable, element);\n",
              "          const docLink = document.createElement('div');\n",
              "          docLink.innerHTML = docLinkHtml;\n",
              "          element.appendChild(docLink);\n",
              "        }\n",
              "      </script>\n",
              "    </div>\n",
              "  </div>\n",
              "  "
            ]
          },
          "metadata": {},
          "execution_count": 102
        }
      ]
    },
    {
      "cell_type": "code",
      "source": [
        "google_df['Scores'] = google_scores"
      ],
      "metadata": {
        "id": "wq6iOXeRCJrJ"
      },
      "execution_count": null,
      "outputs": []
    },
    {
      "cell_type": "code",
      "source": [
        "data_google"
      ],
      "metadata": {
        "colab": {
          "base_uri": "https://localhost:8080/"
        },
        "id": "CsfoDWPgDGks",
        "outputId": "3751b704-62af-42c6-cd32-e6129b8dbc94"
      },
      "execution_count": null,
      "outputs": [
        {
          "output_type": "execute_result",
          "data": {
            "text/plain": [
              "[['Text', 'URL']]"
            ]
          },
          "metadata": {},
          "execution_count": 85
        }
      ]
    },
    {
      "cell_type": "code",
      "source": [],
      "metadata": {
        "id": "2ekJbgfvDNwy"
      },
      "execution_count": null,
      "outputs": []
    }
  ]
}