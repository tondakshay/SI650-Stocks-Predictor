{
 "cells": [
  {
   "cell_type": "code",
   "execution_count": 1,
   "metadata": {},
   "outputs": [],
   "source": [
    "import tweepy\n",
    "import datetime\n",
    "import time\n",
    "import pandas as pd"
   ]
  },
  {
   "cell_type": "code",
   "execution_count": 4,
   "metadata": {},
   "outputs": [
    {
     "name": "stdout",
     "output_type": "stream",
     "text": [
      "(stock #AAPL) OR (stock Apple) lang:en -is:retweet -links -https\n",
      "(stock #MSFT) OR (stock Microsoft) lang:en -is:retweet -links -https\n",
      "(stock #GOOG) OR (stock Google) lang:en -is:retweet -links -https\n",
      "(stock #AMZN) OR (stock Amazon) lang:en -is:retweet -links -https\n",
      "(stock #BRK-B) OR (stock Berkshire Hathaway) lang:en -is:retweet -links -https\n",
      "(stock #TSLA) OR (stock Tesla) lang:en -is:retweet -links -https\n",
      "(stock #UNH) OR (stock United Health) lang:en -is:retweet -links -https\n",
      "(stock #XOM) OR (stock Exxon Mobil) lang:en -is:retweet -links -https\n",
      "(stock #JNJ) OR (stock \"Johnson and Johnson\") lang:en -is:retweet -links -https\n",
      "(stock #V) OR (stock Visa) lang:en -is:retweet -links -https\n",
      "(stock #NVDA) OR (stock NVIDIA) lang:en -is:retweet -links -https\n",
      "(stock #JPM) OR (stock JPMorgan Chase) lang:en -is:retweet -links -https\n",
      "(stock #WMT) OR (stock Walmart) lang:en -is:retweet -links -https\n",
      "(stock #CVX) OR (stock Chevron) lang:en -is:retweet -links -https\n",
      "(stock #LLY) OR (stock Eli Lilly) lang:en -is:retweet -links -https\n",
      "(stock #PG) OR (stock \"Procter and Gamble\") lang:en -is:retweet -links -https\n",
      "(stock #MA) OR (stock Mastercard) lang:en -is:retweet -links -https\n",
      "(stock #HD) OR (stock Home Depot) lang:en -is:retweet -links -https\n",
      "(stock #BAC) OR (stock Bank of America) lang:en -is:retweet -links -https\n",
      "(stock #META) OR (stock Meta) lang:en -is:retweet -links -https\n"
     ]
    }
   ],
   "source": [
    "\n",
    "consumer_key = \"imwrWfsSa6ClKDtco1m5aamlL\"\n",
    "consumer_secret = \"Ee1l74nk8Sx9a3lgYRGRtIMsA9w9CJp6UWS5o5Hujaktb9FUgh\"\n",
    "bearer_token = \"AAAAAAAAAAAAAAAAAAAAANxGjQEAAAAAJRz42cJaTM0Vjftlj5qBXZbFUoQ%3Ds6sj59WRac4zF8fAn973cVazbok2TMSfcsryTIfBXVF4NERfXg\"\n",
    "\n",
    "access_token = \"1591903520805961728-idXQZQJ5ETnqmTxG1MrKepmW1pWT5Z\"\n",
    "access_token_secret = \"oaa6utpuNwrTFfryWg2M5BQvrSN3FoKxa3XxfqIC7Z1nB\"\n",
    "\n",
    "auth = tweepy.OAuth1UserHandler(\n",
    "    consumer_key, consumer_secret, access_token, access_token_secret\n",
    ")\n",
    "\n",
    "# api = tweepy.API(auth)\n",
    "client = tweepy.Client(bearer_token=bearer_token)\n",
    "\n",
    "companies = ['Apple', \n",
    "             'Microsoft', \n",
    "             'Google', \n",
    "             'Amazon',\n",
    "             'Berkshire Hathaway',\n",
    "             'Tesla',\n",
    "             'United Health',\n",
    "             'Exxon Mobil',\n",
    "             '\\\"Johnson and Johnson\\\"',\n",
    "             'Visa',\n",
    "             'NVIDIA',\n",
    "             'JPMorgan Chase',\n",
    "             'Walmart',\n",
    "             'Chevron',\n",
    "             'Eli Lilly',\n",
    "             '\\\"Procter and Gamble\\\"',\n",
    "             'Mastercard',\n",
    "             'Home Depot',\n",
    "             'Bank of America',\n",
    "             'Meta']\n",
    "\n",
    "stock_names = [\"AAPL\",\n",
    "                \"MSFT\",\n",
    "                \"GOOG\",\n",
    "                \"AMZN\",\n",
    "                \"BRK-B\",\n",
    "                \"TSLA\",\n",
    "                \"UNH\",\n",
    "                \"XOM\",\n",
    "                \"JNJ\",\n",
    "                \"V\",\n",
    "                \"NVDA\",\n",
    "                \"JPM\",\n",
    "                \"WMT\",\n",
    "                \"CVX\",\n",
    "                \"LLY\",\n",
    "                \"PG\",\n",
    "                \"MA\",\n",
    "                \"HD\",\n",
    "                \"BAC\",\n",
    "                \"META\"]\n",
    "\n",
    "responses = []\n",
    "for company, stock_name in zip(companies, stock_names):\n",
    "    time.sleep(2)\n",
    "    print (\"(stock #\" + stock_name + \") OR (stock \" + company + \") lang:en -is:retweet -links -https\")\n",
    "    responses.append([client.search_all_tweets(\"(stock #\" + stock_name + \") OR (stock \" + company + \") lang:en -is:retweet -links -https\", max_results=100, tweet_fields = \n",
    "                            ['created_at', 'geo', 'public_metrics', 'text','entities'],), \"(stock #\" + stock_name + \") OR (stock \" + company + \")\"])\n",
    "\n"
   ]
  },
  {
   "cell_type": "code",
   "execution_count": 5,
   "metadata": {},
   "outputs": [
    {
     "name": "stdout",
     "output_type": "stream",
     "text": [
      "                              0  \\\n",
      "0                          Date   \n",
      "1     2022-11-17 02:57:56+00:00   \n",
      "2     2022-11-17 02:33:06+00:00   \n",
      "3     2022-11-17 02:22:11+00:00   \n",
      "4     2022-11-17 02:19:34+00:00   \n",
      "...                         ...   \n",
      "1744  2022-11-15 22:09:18+00:00   \n",
      "1745  2022-11-15 21:50:45+00:00   \n",
      "1746  2022-11-15 21:40:40+00:00   \n",
      "1747  2022-11-15 21:34:50+00:00   \n",
      "1748  2022-11-15 21:30:00+00:00   \n",
      "\n",
      "                                                      1  \\\n",
      "0                                                  Text   \n",
      "1     This Apple Store doesn’t have stock of the iPh...   \n",
      "2     @heydave7 Those who does not learn from the pa...   \n",
      "3     The Big Five #FAANG Stock and Sector Service i...   \n",
      "4     @JhonnyWhite69 the day apple stock market will...   \n",
      "...                                                 ...   \n",
      "1744  @jimcramer @POMP 🤨…\\nIs that you’re “reverse p...   \n",
      "1745  @TurquoiseOceanB @living_ethos @anthonyonguita...   \n",
      "1746  $META was the 7th most mentioned on 4chan over...   \n",
      "1747  @jimcramer @POMP Love @jimcramer but he told m...   \n",
      "1748  @TomFitton @Meta @amazon Have you ever owned s...   \n",
      "\n",
      "                                   2  \n",
      "0                              Query  \n",
      "1     (stock #AAPL) OR (stock Apple)  \n",
      "2     (stock #AAPL) OR (stock Apple)  \n",
      "3     (stock #AAPL) OR (stock Apple)  \n",
      "4     (stock #AAPL) OR (stock Apple)  \n",
      "...                              ...  \n",
      "1744   (stock #META) OR (stock Meta)  \n",
      "1745   (stock #META) OR (stock Meta)  \n",
      "1746   (stock #META) OR (stock Meta)  \n",
      "1747   (stock #META) OR (stock Meta)  \n",
      "1748   (stock #META) OR (stock Meta)  \n",
      "\n",
      "[1749 rows x 3 columns]\n"
     ]
    }
   ],
   "source": [
    "data = [[\"Date\", \"Text\", \"Query\"]]\n",
    "for response in responses:\n",
    "    tweets = response[0].data\n",
    "    query = response[1]\n",
    "    for tweet in tweets:\n",
    "        data.append([tweet.created_at, tweet.text,  query])\n",
    "        # print(tweet.created_at)\n",
    "        # print(tweet.text)\n",
    "df = pd.DataFrame(data)\n",
    "# df.to_excel(\"twitter_data.xlsx\")\n",
    "df.to_csv(\"twitter_data.csv\")\n",
    "print(df)"
   ]
  }
 ],
 "metadata": {
  "kernelspec": {
   "display_name": "Python 3.8.8 ('base')",
   "language": "python",
   "name": "python3"
  },
  "language_info": {
   "codemirror_mode": {
    "name": "ipython",
    "version": 3
   },
   "file_extension": ".py",
   "mimetype": "text/x-python",
   "name": "python",
   "nbconvert_exporter": "python",
   "pygments_lexer": "ipython3",
   "version": "3.8.8"
  },
  "orig_nbformat": 4,
  "vscode": {
   "interpreter": {
    "hash": "7cf439699dce1bbb705f8d5c783a65adb9706c46b2d404b8d9136aa428951031"
   }
  }
 },
 "nbformat": 4,
 "nbformat_minor": 2
}
