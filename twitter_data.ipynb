{
 "cells": [
  {
   "cell_type": "code",
   "execution_count": 11,
   "metadata": {},
   "outputs": [],
   "source": [
    "import tweepy\n",
    "import datetime\n",
    "import time\n",
    "import pandas as pd"
   ]
  },
  {
   "cell_type": "code",
   "execution_count": 15,
   "metadata": {},
   "outputs": [
    {
     "name": "stdout",
     "output_type": "stream",
     "text": [
      "(stock #AAPL) OR (stock Apple) lang:en -is:retweet -links -https\n",
      "(stock #MSFT) OR (stock Microsoft) lang:en -is:retweet -links -https\n",
      "(stock #GOOG) OR (stock Google) lang:en -is:retweet -links -https\n",
      "(stock #AMZN) OR (stock Amazon) lang:en -is:retweet -links -https\n",
      "(stock #BRK-B) OR (stock Berkshire Hathaway) lang:en -is:retweet -links -https\n",
      "(stock #TSLA) OR (stock Tesla) lang:en -is:retweet -links -https\n",
      "(stock #UNH) OR (stock \"United Health\") lang:en -is:retweet -links -https\n",
      "(stock #XOM) OR (stock \"Exxon Mobil\") lang:en -is:retweet -links -https\n",
      "(stock #JNJ) OR (stock \"Johnson & Johnson\") lang:en -is:retweet -links -https\n",
      "(stock #V) OR (stock Visa) lang:en -is:retweet -links -https\n",
      "(stock #NVDA) OR (stock NVIDIA) lang:en -is:retweet -links -https\n",
      "(stock #JPM) OR (stock \"JPMorgan Chase\") lang:en -is:retweet -links -https\n",
      "(stock #WMT) OR (stock Walmart) lang:en -is:retweet -links -https\n",
      "(stock #CVX) OR (stock Chevron) lang:en -is:retweet -links -https\n",
      "(stock #LLY) OR (stock \"Eli Lilly\"\"Procter & Gamble\") lang:en -is:retweet -links -https\n",
      "(stock #PG) OR (stock Mastercard) lang:en -is:retweet -links -https\n",
      "(stock #MA) OR (stock \"Home Depot\") lang:en -is:retweet -links -https\n",
      "(stock #HD) OR (stock \"Bank of America\") lang:en -is:retweet -links -https\n",
      "(stock #BAC) OR (stock Meta) lang:en -is:retweet -links -https\n"
     ]
    }
   ],
   "source": [
    "\n",
    "consumer_key = \"imwrWfsSa6ClKDtco1m5aamlL\"\n",
    "consumer_secret = \"Ee1l74nk8Sx9a3lgYRGRtIMsA9w9CJp6UWS5o5Hujaktb9FUgh\"\n",
    "bearer_token = \"AAAAAAAAAAAAAAAAAAAAANxGjQEAAAAAJRz42cJaTM0Vjftlj5qBXZbFUoQ%3Ds6sj59WRac4zF8fAn973cVazbok2TMSfcsryTIfBXVF4NERfXg\"\n",
    "\n",
    "access_token = \"1591903520805961728-idXQZQJ5ETnqmTxG1MrKepmW1pWT5Z\"\n",
    "access_token_secret = \"oaa6utpuNwrTFfryWg2M5BQvrSN3FoKxa3XxfqIC7Z1nB\"\n",
    "\n",
    "auth = tweepy.OAuth1UserHandler(\n",
    "    consumer_key, consumer_secret, access_token, access_token_secret\n",
    ")\n",
    "\n",
    "# api = tweepy.API(auth)\n",
    "client = tweepy.Client(bearer_token=bearer_token)\n",
    "\n",
    "companies = ['Apple', \n",
    "             'Microsoft', \n",
    "             'Google', \n",
    "             'Amazon',\n",
    "             'Berkshire Hathaway',\n",
    "             'Tesla',\n",
    "             '\\\"United Health\\\"',\n",
    "             '\"Exxon Mobil\"',\n",
    "             '\\\"Johnson & Johnson\\\"',\n",
    "             'Visa',\n",
    "             'NVIDIA',\n",
    "             '\\\"JPMorgan Chase\\\"',\n",
    "             'Walmart',\n",
    "             'Chevron',\n",
    "             '\\\"Eli Lilly\\\"'\n",
    "             '\\\"Procter & Gamble\\\"',\n",
    "             'Mastercard',\n",
    "             '\\\"Home Depot\\\"',\n",
    "             '\\\"Bank of America\\\"',\n",
    "             'Meta']\n",
    "\n",
    "stock_names = [\"AAPL\",\n",
    "                \"MSFT\",\n",
    "                \"GOOG\",\n",
    "                \"AMZN\",\n",
    "                \"BRK-B\",\n",
    "                \"TSLA\",\n",
    "                \"UNH\",\n",
    "                \"XOM\",\n",
    "                \"JNJ\",\n",
    "                \"V\",\n",
    "                \"NVDA\",\n",
    "                \"JPM\",\n",
    "                \"WMT\",\n",
    "                \"CVX\",\n",
    "                \"LLY\",\n",
    "                \"PG\",\n",
    "                \"MA\",\n",
    "                \"HD\",\n",
    "                \"BAC\",\n",
    "                \"META\"]\n",
    "\n",
    "responses = []\n",
    "for company, stock_name in zip(companies, stock_names):\n",
    "    time.sleep(2)\n",
    "    print (\"(stock #\" + stock_name + \") OR (stock \" + company + \") lang:en -is:retweet -links -https\")\n",
    "    responses.append([client.search_all_tweets(\"(stock #\" + stock_name + \") OR (stock \" + company + \") lang:en -is:retweet -links -https\", max_results=10, tweet_fields = \n",
    "                            ['created_at', 'geo', 'public_metrics', 'text','entities'],), \"(stock #\" + stock_name + \") OR (stock \" + company + \")\"])\n"
   ]
  },
  {
   "cell_type": "code",
   "execution_count": 22,
   "metadata": {},
   "outputs": [
    {
     "ename": "AttributeError",
     "evalue": "'datetime.datetime' object has no attribute 'apply'",
     "output_type": "error",
     "traceback": [
      "\u001b[0;31m---------------------------------------------------------------------------\u001b[0m",
      "\u001b[0;31mAttributeError\u001b[0m                            Traceback (most recent call last)",
      "\u001b[0;32m/var/folders/y8/prqlm3196y52ckv033jhzrmw0000gn/T/ipykernel_80547/1644419609.py\u001b[0m in \u001b[0;36m<module>\u001b[0;34m\u001b[0m\n\u001b[1;32m      4\u001b[0m     \u001b[0mquery\u001b[0m \u001b[0;34m=\u001b[0m \u001b[0mresponse\u001b[0m\u001b[0;34m[\u001b[0m\u001b[0;36m1\u001b[0m\u001b[0;34m]\u001b[0m\u001b[0;34m\u001b[0m\u001b[0;34m\u001b[0m\u001b[0m\n\u001b[1;32m      5\u001b[0m     \u001b[0;32mfor\u001b[0m \u001b[0mtweet\u001b[0m \u001b[0;32min\u001b[0m \u001b[0mtweets\u001b[0m\u001b[0;34m:\u001b[0m\u001b[0;34m\u001b[0m\u001b[0;34m\u001b[0m\u001b[0m\n\u001b[0;32m----> 6\u001b[0;31m         \u001b[0mdata\u001b[0m\u001b[0;34m.\u001b[0m\u001b[0mappend\u001b[0m\u001b[0;34m(\u001b[0m\u001b[0;34m[\u001b[0m\u001b[0;34m(\u001b[0m\u001b[0mtweet\u001b[0m\u001b[0;34m.\u001b[0m\u001b[0mcreated_at\u001b[0m\u001b[0;34m)\u001b[0m\u001b[0;34m.\u001b[0m\u001b[0mapply\u001b[0m\u001b[0;34m(\u001b[0m\u001b[0;32mlambda\u001b[0m \u001b[0ma\u001b[0m\u001b[0;34m:\u001b[0m \u001b[0mpd\u001b[0m\u001b[0;34m.\u001b[0m\u001b[0mto_datetime\u001b[0m\u001b[0;34m(\u001b[0m\u001b[0ma\u001b[0m\u001b[0;34m)\u001b[0m\u001b[0;34m.\u001b[0m\u001b[0mdate\u001b[0m\u001b[0;34m(\u001b[0m\u001b[0;34m)\u001b[0m\u001b[0;34m)\u001b[0m \u001b[0;34m,\u001b[0m \u001b[0mtweet\u001b[0m\u001b[0;34m.\u001b[0m\u001b[0mtext\u001b[0m\u001b[0;34m,\u001b[0m  \u001b[0mquery\u001b[0m\u001b[0;34m]\u001b[0m\u001b[0;34m)\u001b[0m\u001b[0;34m\u001b[0m\u001b[0;34m\u001b[0m\u001b[0m\n\u001b[0m\u001b[1;32m      7\u001b[0m         \u001b[0;31m# print(tweet.created_at)\u001b[0m\u001b[0;34m\u001b[0m\u001b[0;34m\u001b[0m\u001b[0;34m\u001b[0m\u001b[0m\n\u001b[1;32m      8\u001b[0m         \u001b[0;31m# print(tweet.text)\u001b[0m\u001b[0;34m\u001b[0m\u001b[0;34m\u001b[0m\u001b[0;34m\u001b[0m\u001b[0m\n",
      "\u001b[0;31mAttributeError\u001b[0m: 'datetime.datetime' object has no attribute 'apply'"
     ]
    }
   ],
   "source": [
    "data = [[\"date\", \"text\", \"query\"]]\n",
    "for response in responses:\n",
    "    tweets = response[0].data\n",
    "    query = response[1]\n",
    "    for tweet in tweets:\n",
    "        data.append([tweet.created_at, tweet.text,  query])\n",
    "        # print(tweet.created_at)\n",
    "        # print(tweet.text)\n",
    "df = pd.DataFrame(data)\n",
    "# df.to_excel(\"twitter_data.xlsx\")\n",
    "df.to_csv(\"twitter_data.csv\")\n",
    "print(df)"
   ]
  }
 ],
 "metadata": {
  "kernelspec": {
   "display_name": "Python 3.8.8 ('base')",
   "language": "python",
   "name": "python3"
  },
  "language_info": {
   "codemirror_mode": {
    "name": "ipython",
    "version": 3
   },
   "file_extension": ".py",
   "mimetype": "text/x-python",
   "name": "python",
   "nbconvert_exporter": "python",
   "pygments_lexer": "ipython3",
   "version": "3.8.8"
  },
  "orig_nbformat": 4,
  "vscode": {
   "interpreter": {
    "hash": "7cf439699dce1bbb705f8d5c783a65adb9706c46b2d404b8d9136aa428951031"
   }
  }
 },
 "nbformat": 4,
 "nbformat_minor": 2
}
