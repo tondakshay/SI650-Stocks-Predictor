{
 "cells": [
  {
   "cell_type": "code",
   "execution_count": 6,
   "metadata": {},
   "outputs": [],
   "source": [
    "import tweepy\n",
    "import datetime\n",
    "import time\n",
    "import pandas as pd\n",
    "from GoogleNews import GoogleNews"
   ]
  },
  {
   "cell_type": "code",
   "execution_count": 27,
   "metadata": {},
   "outputs": [],
   "source": [
    "\n",
    "def clean_results(res, name, keys):\n",
    "    for d in res:\n",
    "        d['text'] = d['title']+'. '+d['desc']\n",
    "        d['date'] = [d['date'], d['datetime']]\n",
    "        for k in keys:\n",
    "            del d[k]\n",
    "    return res\n",
    "\n",
    "def getResponses(queries):\n",
    "\n",
    "    consumer_key = \"imwrWfsSa6ClKDtco1m5aamlL\"\n",
    "    consumer_secret = \"Ee1l74nk8Sx9a3lgYRGRtIMsA9w9CJp6UWS5o5Hujaktb9FUgh\"\n",
    "    bearer_token = \"AAAAAAAAAAAAAAAAAAAAANxGjQEAAAAAJRz42cJaTM0Vjftlj5qBXZbFUoQ%3Ds6sj59WRac4zF8fAn973cVazbok2TMSfcsryTIfBXVF4NERfXg\"\n",
    "\n",
    "    access_token = \"1591903520805961728-idXQZQJ5ETnqmTxG1MrKepmW1pWT5Z\"\n",
    "    access_token_secret = \"oaa6utpuNwrTFfryWg2M5BQvrSN3FoKxa3XxfqIC7Z1nB\"\n",
    "\n",
    "    auth = tweepy.OAuth1UserHandler(\n",
    "        consumer_key, consumer_secret, access_token, access_token_secret\n",
    "    )\n",
    "\n",
    "    # api = tweepy.API(auth)\n",
    "    client = tweepy.Client(bearer_token=bearer_token)\n",
    "\n",
    "    googlenews = GoogleNews(period='1month', lang='en', region='US')\n",
    "\n",
    "    responses = []\n",
    "    googleData = []\n",
    "    del_keys = ['media', 'img', 'datetime', 'title', 'desc']\n",
    "    \n",
    "    for query in queries:\n",
    "        time.sleep(2)\n",
    "        responses.append([client.search_all_tweets( query + \" lang:en -is:retweet -links -https\", max_results=20, tweet_fields = \n",
    "                                ['created_at', 'geo', 'public_metrics', 'text','entities',],)])\n",
    "        googlenews.search(query)\n",
    "        for i in range(2):\n",
    "            result = googlenews.page_at(i+1)\n",
    "            googleData.extend(clean_results(result, query, del_keys))\n",
    "        googlenews.clear()\n",
    "\n",
    "    return responses , googleData\n",
    "    \n",
    "\n",
    "def getData(queries):\n",
    "    responses, googleData = getResponses(queries)\n",
    "    data_tweet = [[ \"Text\", \"URL\"]]\n",
    "    data_google = [[ \"Text\", \"URL\"]]\n",
    "    for response in responses:\n",
    "        tweets = response[0].data\n",
    "        for tweet in tweets:\n",
    "            data_tweet.append([tweet.text, \"twitter\"])\n",
    "\n",
    "    for gdata in googleData:\n",
    "        data_google.append([gdata['text'], gdata['link']])\n",
    "    return data_tweet, data_google\n"
   ]
  },
  {
   "cell_type": "code",
   "execution_count": 28,
   "metadata": {},
   "outputs": [
    {
     "name": "stdout",
     "output_type": "stream",
     "text": [
      "HTTP Error 429: Too Many Requests\n",
      "HTTP Error 429: Too Many Requests\n",
      "HTTP Error 429: Too Many Requests\n"
     ]
    }
   ],
   "source": [
    "queries = [\"Google\"]\n",
    "data_tweet_pd, data_google_pd = getData(queries)\n"
   ]
  },
  {
   "cell_type": "code",
   "execution_count": 29,
   "metadata": {},
   "outputs": [
    {
     "name": "stdout",
     "output_type": "stream",
     "text": [
      "                                                    0        1\n",
      "0                                                Text      URL\n",
      "1   @FranckenTheo I beg to differ with you Theo! H...  twitter\n",
      "2   hate how i cannot look up how long a film is w...  twitter\n",
      "3   @cbeckj @ThinkyTexan @MikeAda69588676 @TomDoub...  twitter\n",
      "4   4. More choice of manufacturers: Android devic...  twitter\n",
      "5   @AshleyInMKE I'd just look them on google. At ...  twitter\n",
      "6   @Myke_The_Sarge @IsmaCS0 @DailyLoud Go and Goo...  twitter\n",
      "7                        @Anna_altenhofen Google Maps  twitter\n",
      "8   @EloyAhoy @_jdoyle_ @EzequelMurillo @silentgri...  twitter\n",
      "9   first of all, a podcast takes a lot of work, o...  twitter\n",
      "10     @_TeaWithTia Google this and sees what pops up  twitter\n",
      "11  @libertytarian Yup it's on the way, just saw a...  twitter\n",
      "12          @moontwihard @lovearisvibe Google trends*  twitter\n",
      "13  #Jammin' Terri (@starboyterri) - For Here\\nLis...  twitter\n",
      "14  Google takes your privacy, governments take yo...  twitter\n",
      "15  @RepMTG @facebook @Google Ridiculous investiga...  twitter\n",
      "16  @RanaTaFrogs @TheRightColumn @moryan Google PI...  twitter\n",
      "17  @gauravcsawant Bitch stop crying. Search on Go...  twitter\n",
      "18  Every single social media platform and GOOGLE ...  twitter\n",
      "19  @OSNPsouthwest .@holy_rosary_cs keeps a budget...  twitter\n",
      "20  @moontwihard @lovearisvibe Google trend, a web...  twitter\n",
      "      0    1\n",
      "0  Text  URL\n"
     ]
    }
   ],
   "source": [
    "print(pd.DataFrame(data_tweet_pd))\n",
    "print(pd.DataFrame(data_google_pd))"
   ]
  }
 ],
 "metadata": {
  "kernelspec": {
   "display_name": "Python 3.8.8 ('base')",
   "language": "python",
   "name": "python3"
  },
  "language_info": {
   "codemirror_mode": {
    "name": "ipython",
    "version": 3
   },
   "file_extension": ".py",
   "mimetype": "text/x-python",
   "name": "python",
   "nbconvert_exporter": "python",
   "pygments_lexer": "ipython3",
   "version": "3.8.8"
  },
  "orig_nbformat": 4,
  "vscode": {
   "interpreter": {
    "hash": "7cf439699dce1bbb705f8d5c783a65adb9706c46b2d404b8d9136aa428951031"
   }
  }
 },
 "nbformat": 4,
 "nbformat_minor": 2
}
